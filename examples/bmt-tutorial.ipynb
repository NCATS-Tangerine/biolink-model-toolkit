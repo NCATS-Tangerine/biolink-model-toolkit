{
 "cells": [
  {
   "cell_type": "code",
   "execution_count": 30,
   "id": "64ff58e6",
   "metadata": {},
   "outputs": [
    {
     "name": "stderr",
     "output_type": "stream",
     "text": [
      "WARNING:ToolkitGenerator:Range of slot 'treated by' (treatment) does not line with the domain of its inverse (treats)\n",
      "WARNING:ToolkitGenerator:Range of slot 'approved for treatment by' (treatment) does not line with the domain of its inverse (approved to treat)\n",
      "WARNING:ToolkitGenerator:Prefix case mismatch - supplied: NCBIGene expected: NCBIGENE\n",
      "WARNING:ToolkitGenerator:Prefix case mismatch - supplied: NCBIGene expected: NCBIGENE\n"
     ]
    },
    {
     "name": "stdout",
     "output_type": "stream",
     "text": [
      "mismatched domains? count:  0\n",
      "[]\n"
     ]
    }
   ],
   "source": [
    "import bmt\n",
    "import requests\n",
    "import json\n",
    "from pprint import pprint\n",
    "\n",
    "tk = bmt.Toolkit()\n",
    "\n",
    "response = requests.get(\"https://covid.cohd.io/api/predicates\")\n",
    "predicates = response.json()\n",
    "missing_predicates = []\n",
    "mismatch_domain = []\n",
    "domains = []\n",
    "\n",
    "for source in predicates:\n",
    "    #print(source)\n",
    "    domains = tk.get_ancestors(source)\n",
    "    #print(domains)\n",
    "    for target in predicates[source]:\n",
    "        for ptype in predicates[source][target]:\n",
    "            if not tk.is_predicate(ptype):\n",
    "                missing_predicates.append(ptype)\n",
    "            else:\n",
    "                #print(tk.get_slot_domain(ptype))\n",
    "                predicate_domain = tk.get_slot_domain(ptype)\n",
    "                if predicate_domain[0] not in domains:\n",
    "                    print (tk.get_slot_domain(ptype))\n",
    "                    print (domains)\n",
    "                    mismatch_domain.append({\"predicate\": ptype,\n",
    "                                            \"domain_in_model\": tk.get_slot_domain(ptype), \n",
    "                                            \"domain_in_endpoint\": source})\n",
    "\n",
    "print(\"missing predicates? count: \", len(missing_predicates))\n",
    "print(\"mismatched domains? count: \", len(mismatch_domain))\n",
    "pprint(mismatch_domain)\n",
    "                    \n",
    "    \n",
    "                "
   ]
  },
  {
   "cell_type": "code",
   "execution_count": 2,
   "id": "9b32fef4",
   "metadata": {},
   "outputs": [],
   "source": [
    "assert tk.is_mixin('regulates')"
   ]
  },
  {
   "cell_type": "code",
   "execution_count": 3,
   "id": "75fdb17d",
   "metadata": {},
   "outputs": [
    {
     "ename": "AssertionError",
     "evalue": "",
     "output_type": "error",
     "traceback": [
      "\u001b[0;31m---------------------------------------------------------------------------\u001b[0m",
      "\u001b[0;31mAssertionError\u001b[0m                            Traceback (most recent call last)",
      "\u001b[0;32m/var/folders/2d/1xhwsfs15qb37bv4m62xn0tc0000gp/T/ipykernel_1035/3419875488.py\u001b[0m in \u001b[0;36m<module>\u001b[0;34m\u001b[0m\n\u001b[1;32m      1\u001b[0m \u001b[0;32massert\u001b[0m \u001b[0mtk\u001b[0m\u001b[0;34m.\u001b[0m\u001b[0mis_predicate\u001b[0m\u001b[0;34m(\u001b[0m\u001b[0;34m'process negatively regulates process'\u001b[0m\u001b[0;34m)\u001b[0m\u001b[0;34m\u001b[0m\u001b[0;34m\u001b[0m\u001b[0m\n\u001b[0;32m----> 2\u001b[0;31m \u001b[0;32massert\u001b[0m \u001b[0mtk\u001b[0m\u001b[0;34m.\u001b[0m\u001b[0mis_predicate\u001b[0m\u001b[0;34m(\u001b[0m\u001b[0;34m'negatively regulates, process to process'\u001b[0m\u001b[0;34m)\u001b[0m\u001b[0;34m\u001b[0m\u001b[0;34m\u001b[0m\u001b[0m\n\u001b[0m",
      "\u001b[0;31mAssertionError\u001b[0m: "
     ]
    }
   ],
   "source": [
    "assert tk.is_predicate('process negatively regulates process')\n",
    "assert tk.is_predicate('negatively regulates, process to process')"
   ]
  },
  {
   "cell_type": "code",
   "execution_count": null,
   "id": "06fbb4c7",
   "metadata": {},
   "outputs": [],
   "source": []
  }
 ],
 "metadata": {
  "kernelspec": {
   "display_name": "Python 3 (ipykernel)",
   "language": "python",
   "name": "python3"
  },
  "language_info": {
   "codemirror_mode": {
    "name": "ipython",
    "version": 3
   },
   "file_extension": ".py",
   "mimetype": "text/x-python",
   "name": "python",
   "nbconvert_exporter": "python",
   "pygments_lexer": "ipython3",
   "version": "3.7.3"
  }
 },
 "nbformat": 4,
 "nbformat_minor": 5
}
