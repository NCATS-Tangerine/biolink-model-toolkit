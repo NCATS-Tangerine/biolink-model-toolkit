{
 "cells": [
  {
   "cell_type": "code",
   "execution_count": 46,
   "id": "64ff58e6",
   "metadata": {},
   "outputs": [
    {
     "name": "stderr",
     "output_type": "stream",
     "text": [
      "WARNING:ToolkitGenerator:Range of slot 'treated by' (treatment) does not line with the domain of its inverse (treats)\n",
      "WARNING:ToolkitGenerator:Range of slot 'approved for treatment by' (treatment) does not line with the domain of its inverse (approved to treat)\n",
      "WARNING:ToolkitGenerator:Prefix case mismatch - supplied: NCBIGene expected: NCBIGENE\n",
      "WARNING:ToolkitGenerator:Prefix case mismatch - supplied: NCBIGene expected: NCBIGENE\n"
     ]
    },
    {
     "name": "stdout",
     "output_type": "stream",
     "text": [
      "['biolink:has_attribute', 'biolink:id', 'biolink:iri', 'biolink:type', 'biolink:category', 'biolink:name', 'biolink:source', 'biolink:description', 'biolink:provided_by', 'biolink:association_slot', 'biolink:sex_qualifier', 'biolink:relation', 'biolink:has_evidence', 'biolink:has_temporal_context', 'biolink:object', 'biolink:has_population_context', 'biolink:frequency_qualifier', 'biolink:provided_by', 'biolink:quantifier_qualifier', 'biolink:predicate', 'biolink:qualifiers', 'biolink:has_confidence_level', 'biolink:sequence_variant_qualifier', 'biolink:sequence_localization_attribute', 'biolink:interbase_coordinate', 'biolink:end_interbase_coordinate', 'biolink:start_interbase_coordinate', 'biolink:strand', 'biolink:phase', 'biolink:genome_build', 'biolink:associated_environmental_context', 'biolink:subject', 'biolink:logical_interpretation', 'biolink:interacting_molecules_category', 'biolink:expression_site', 'biolink:chi_squared_statistic', 'biolink:onset_qualifier', 'biolink:negated', 'biolink:severity_qualifier', 'biolink:phenotypic_state', 'biolink:catalyst_qualifier', 'biolink:edge_label', 'biolink:association_type', 'biolink:publications', 'biolink:stage_qualifier', 'biolink:p_value', 'biolink:clinical_modifier_qualifier']\n",
      "missing predicate: biolink:has_evidence\n",
      "['biolink:has_attribute', 'biolink:id', 'biolink:iri', 'biolink:type', 'biolink:category', 'biolink:name', 'biolink:source', 'biolink:description', 'biolink:provided_by', 'biolink:association_slot', 'biolink:sex_qualifier', 'biolink:relation', 'biolink:has_evidence', 'biolink:has_temporal_context', 'biolink:object', 'biolink:has_population_context', 'biolink:frequency_qualifier', 'biolink:provided_by', 'biolink:quantifier_qualifier', 'biolink:predicate', 'biolink:qualifiers', 'biolink:has_confidence_level', 'biolink:sequence_variant_qualifier', 'biolink:sequence_localization_attribute', 'biolink:interbase_coordinate', 'biolink:end_interbase_coordinate', 'biolink:start_interbase_coordinate', 'biolink:strand', 'biolink:phase', 'biolink:genome_build', 'biolink:associated_environmental_context', 'biolink:subject', 'biolink:logical_interpretation', 'biolink:interacting_molecules_category', 'biolink:expression_site', 'biolink:chi_squared_statistic', 'biolink:onset_qualifier', 'biolink:negated', 'biolink:severity_qualifier', 'biolink:phenotypic_state', 'biolink:catalyst_qualifier', 'biolink:edge_label', 'biolink:association_type', 'biolink:publications', 'biolink:stage_qualifier', 'biolink:p_value', 'biolink:clinical_modifier_qualifier']\n",
      "missing predicate: biolink:enriched_in_genes_correlated_with\n",
      "['biolink:has_attribute', 'biolink:id', 'biolink:iri', 'biolink:type', 'biolink:category', 'biolink:name', 'biolink:source', 'biolink:description', 'biolink:provided_by', 'biolink:association_slot', 'biolink:sex_qualifier', 'biolink:relation', 'biolink:has_evidence', 'biolink:has_temporal_context', 'biolink:object', 'biolink:has_population_context', 'biolink:frequency_qualifier', 'biolink:provided_by', 'biolink:quantifier_qualifier', 'biolink:predicate', 'biolink:qualifiers', 'biolink:has_confidence_level', 'biolink:sequence_variant_qualifier', 'biolink:sequence_localization_attribute', 'biolink:interbase_coordinate', 'biolink:end_interbase_coordinate', 'biolink:start_interbase_coordinate', 'biolink:strand', 'biolink:phase', 'biolink:genome_build', 'biolink:associated_environmental_context', 'biolink:subject', 'biolink:logical_interpretation', 'biolink:interacting_molecules_category', 'biolink:expression_site', 'biolink:chi_squared_statistic', 'biolink:onset_qualifier', 'biolink:negated', 'biolink:severity_qualifier', 'biolink:phenotypic_state', 'biolink:catalyst_qualifier', 'biolink:edge_label', 'biolink:association_type', 'biolink:publications', 'biolink:stage_qualifier', 'biolink:p_value', 'biolink:clinical_modifier_qualifier']\n",
      "missing predicate: biolink:transport_affected_by\n",
      "['biolink:has_attribute', 'biolink:id', 'biolink:iri', 'biolink:type', 'biolink:category', 'biolink:name', 'biolink:source', 'biolink:description', 'biolink:provided_by', 'biolink:association_slot', 'biolink:sex_qualifier', 'biolink:relation', 'biolink:has_evidence', 'biolink:has_temporal_context', 'biolink:object', 'biolink:has_population_context', 'biolink:frequency_qualifier', 'biolink:provided_by', 'biolink:quantifier_qualifier', 'biolink:predicate', 'biolink:qualifiers', 'biolink:has_confidence_level', 'biolink:sequence_variant_qualifier', 'biolink:sequence_localization_attribute', 'biolink:interbase_coordinate', 'biolink:end_interbase_coordinate', 'biolink:start_interbase_coordinate', 'biolink:strand', 'biolink:phase', 'biolink:genome_build', 'biolink:associated_environmental_context', 'biolink:subject', 'biolink:logical_interpretation', 'biolink:interacting_molecules_category', 'biolink:expression_site', 'biolink:chi_squared_statistic', 'biolink:onset_qualifier', 'biolink:negated', 'biolink:severity_qualifier', 'biolink:phenotypic_state', 'biolink:catalyst_qualifier', 'biolink:edge_label', 'biolink:association_type', 'biolink:publications', 'biolink:stage_qualifier', 'biolink:p_value', 'biolink:clinical_modifier_qualifier']\n",
      "missing predicate: biolink:transport_affected_by\n"
     ]
    }
   ],
   "source": [
    "import bmt\n",
    "import requests\n",
    "import json\n",
    "from pprint import pprint\n",
    "\n",
    "tk = bmt.Toolkit()\n",
    "\n",
    "# /meta_knowledge_graph endpoint\n",
    "response = requests.get(\"https://tinyurl.com/ahn28nu5\")\n",
    "edges_and_nodes = response.json()\n",
    "missing_predicates = []\n",
    "mismatch_domain = []\n",
    "domains = []\n",
    "    \n",
    "for edge in edges_and_nodes.get('edges'):\n",
    "    subject = edge.get('subject')\n",
    "    predicate = edge.get('predicate')\n",
    "    p_object = edge.get('object')\n",
    "    # True, True means: format the anscestors call like biolink:ChemicalSubstance vs. chemical substance, \n",
    "    # and return self in the list.\n",
    "    domains = tk.get_ancestors(subject, True, True)\n",
    "    if subject not in domains:\n",
    "        print (\"domain mismatch: \" + tk.get_slot_domain(predicate))\n",
    "        mismatch_domain.append({\"predicate\": predicate,\n",
    "                                \"domain_in_model\": tk.get_slot_domain(predicate), \n",
    "                                \"domain_in_endpoint\": source})\n",
    "    if not tk.is_predicate(predicate):\n",
    "        # format the return as biolink:snake_case_string instead of snake_case_string\n",
    "        association_slots = tk.get_all_edge_properties(True)\n",
    "        print(association_slots)\n",
    "        if predicate in association_slots:\n",
    "            print(\"predicate does not desc\")\n",
    "        missing_predicates.append(predicate)\n",
    "        print(\"missing predicate: \" + predicate)\n",
    "    \n",
    "        \n",
    "    \n",
    "                "
   ]
  },
  {
   "cell_type": "code",
   "execution_count": 2,
   "id": "9b32fef4",
   "metadata": {},
   "outputs": [],
   "source": [
    "assert tk.is_mixin('regulates')"
   ]
  },
  {
   "cell_type": "code",
   "execution_count": 3,
   "id": "75fdb17d",
   "metadata": {},
   "outputs": [
    {
     "ename": "AssertionError",
     "evalue": "",
     "output_type": "error",
     "traceback": [
      "\u001b[0;31m---------------------------------------------------------------------------\u001b[0m",
      "\u001b[0;31mAssertionError\u001b[0m                            Traceback (most recent call last)",
      "\u001b[0;32m/var/folders/2d/1xhwsfs15qb37bv4m62xn0tc0000gp/T/ipykernel_1035/3419875488.py\u001b[0m in \u001b[0;36m<module>\u001b[0;34m\u001b[0m\n\u001b[1;32m      1\u001b[0m \u001b[0;32massert\u001b[0m \u001b[0mtk\u001b[0m\u001b[0;34m.\u001b[0m\u001b[0mis_predicate\u001b[0m\u001b[0;34m(\u001b[0m\u001b[0;34m'process negatively regulates process'\u001b[0m\u001b[0;34m)\u001b[0m\u001b[0;34m\u001b[0m\u001b[0;34m\u001b[0m\u001b[0m\n\u001b[0;32m----> 2\u001b[0;31m \u001b[0;32massert\u001b[0m \u001b[0mtk\u001b[0m\u001b[0;34m.\u001b[0m\u001b[0mis_predicate\u001b[0m\u001b[0;34m(\u001b[0m\u001b[0;34m'negatively regulates, process to process'\u001b[0m\u001b[0;34m)\u001b[0m\u001b[0;34m\u001b[0m\u001b[0;34m\u001b[0m\u001b[0m\n\u001b[0m",
      "\u001b[0;31mAssertionError\u001b[0m: "
     ]
    }
   ],
   "source": [
    "assert tk.is_predicate('process negatively regulates process')\n",
    "assert tk.is_predicate('negatively regulates, process to process')"
   ]
  },
  {
   "cell_type": "code",
   "execution_count": null,
   "id": "06fbb4c7",
   "metadata": {},
   "outputs": [],
   "source": []
  }
 ],
 "metadata": {
  "kernelspec": {
   "display_name": "Python 3 (ipykernel)",
   "language": "python",
   "name": "python3"
  },
  "language_info": {
   "codemirror_mode": {
    "name": "ipython",
    "version": 3
   },
   "file_extension": ".py",
   "mimetype": "text/x-python",
   "name": "python",
   "nbconvert_exporter": "python",
   "pygments_lexer": "ipython3",
   "version": "3.7.3"
  }
 },
 "nbformat": 4,
 "nbformat_minor": 5
}
