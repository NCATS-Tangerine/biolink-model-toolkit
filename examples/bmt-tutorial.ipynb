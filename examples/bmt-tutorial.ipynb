{
 "cells": [
  {
   "cell_type": "code",
   "execution_count": 9,
   "id": "64ff58e6",
   "metadata": {},
   "outputs": [],
   "source": [
    "import bmt\n",
    "import requests\n",
    "import json\n",
    "from pprint import pprint\n",
    "\n",
    "tk = bmt.Toolkit()\n",
    "\n",
    "# /meta_knowledge_graph endpoint\n",
    "response = requests.get(\"https://bte.transltr.io/v1/team/Service%20Provider/meta_knowledge_graph\")\n",
    "edges_and_nodes = response.json()\n",
    "missing_predicates = []\n",
    "mismatch_domain = []\n",
    "domains = []\n",
    "    \n",
    "for edge in edges_and_nodes.get('edges'):\n",
    "    subject = edge.get('subject')\n",
    "    predicate = edge.get('predicate')\n",
    "    p_object = edge.get('object')\n",
    "    if not tk.is_predicate(predicate):\n",
    "        # format the return as biolink:snake_case_string instead of snake_case_string\n",
    "        association_slots = tk.get_all_edge_properties(True)\n",
    "        if predicate in association_slots:\n",
    "            print(\"predicate does not descend from 'related_to: \" + predicate)\n",
    "        elif tk.is_mixin(predicate):\n",
    "                print(\"predicate is a mixin: \" + predicate)\n",
    "        else:\n",
    "            missing_predicates.append(predicate)\n",
    "            print(\"missing predicate: \" + predicate)\n",
    "    else:\n",
    "        domains = tk.get_ancestors(subject, True, True)\n",
    "        if subject not in domains:\n",
    "            print (\"domain mismatch: \" + tk.get_slot_domain(predicate))\n",
    "            mismatch_domain.append({\"predicate\": predicate,\n",
    "                                    \"domain_in_model\": tk.get_slot_domain(predicate), \n",
    "                                    \"domain_in_endpoint\": source})\n",
    "        ranges = tk.get_ancestors(p_object, True, True)\n",
    "        if p_object not in ranges:\n",
    "            print (\"range mismatch: \" + tk.get_slot_range(predicate))\n",
    "            mismatch_range.append({\"predicate\": predicate,\n",
    "                                    \"domain_in_model\": tk.get_slot_range(predicate), \n",
    "                                    \"domain_in_endpoint\": source})\n",
    "        \n",
    "    \n",
    "                "
   ]
  },
  {
   "cell_type": "code",
   "execution_count": null,
   "id": "2a15bdd3",
   "metadata": {},
   "outputs": [],
   "source": []
  }
 ],
 "metadata": {
  "kernelspec": {
   "display_name": "Python 3 (ipykernel)",
   "language": "python",
   "name": "python3"
  },
  "language_info": {
   "codemirror_mode": {
    "name": "ipython",
    "version": 3
   },
   "file_extension": ".py",
   "mimetype": "text/x-python",
   "name": "python",
   "nbconvert_exporter": "python",
   "pygments_lexer": "ipython3",
   "version": "3.10.1"
  }
 },
 "nbformat": 4,
 "nbformat_minor": 5
}
